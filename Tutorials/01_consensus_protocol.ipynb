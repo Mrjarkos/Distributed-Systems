{
 "cells": [
  {
   "cell_type": "markdown",
   "id": "78c67619",
   "metadata": {},
   "source": [
    "# Graph Theoretic Methods in Multiagent Networks\n",
    "## Chapter 3: The Agreement Protocol: Part I–The Static Case\n",
    "Mehran Mesbahi and Magnus Egerstedt\n",
    "\n",
    "#### Summary:\n",
    "\n",
    "Agreement protocols are essential for multiagent coordination, aiming for agents to agree on a joint state value. This chapter explores the dynamics of agreement protocols over both undirected and directed static networks, emphasizing the relationship between convergence properties and network structure.\n",
    "The agreement protocol facilitates this consensus through information sharing networks.\n",
    "\n",
    "#### Key points:\n",
    "1. Agreement protocols are crucial for solving multiagent coordination problems.\n",
    "2. Convergence properties of these protocols are influenced by network structure.\n",
    "3. The protocol involves dynamic units interconnected via information-exchange links, with each unit's state change influenced by its neighbors.\n",
    "4. Understanding the agreement protocol offers insights into network topology's role in dynamic processes."
   ]
  },
  {
   "cell_type": "markdown",
   "id": "7297e5e5",
   "metadata": {},
   "source": [
    "#### Import libraries"
   ]
  },
  {
   "cell_type": "markdown",
   "id": "039dfbd0",
   "metadata": {},
   "source": [
    "##### To export later notebook to PDF"
   ]
  },
  {
   "cell_type": "code",
   "execution_count": 1,
   "id": "0b1e2741",
   "metadata": {},
   "outputs": [],
   "source": [
    "from IPython.display import display, Latex"
   ]
  },
  {
   "cell_type": "markdown",
   "id": "713786c8",
   "metadata": {},
   "source": [
    "##### We do need this ones"
   ]
  },
  {
   "cell_type": "code",
   "execution_count": 2,
   "id": "c7a6bd07",
   "metadata": {},
   "outputs": [],
   "source": [
    "import numpy as np\n",
    "import networkx as nx\n",
    "from scipy import linalg\n",
    "import matplotlib.pyplot as plt\n",
    "np.random.seed(42)"
   ]
  },
  {
   "cell_type": "markdown",
   "id": "262313ea",
   "metadata": {},
   "source": [
    "# 3.1 Agreement or Consensus protocol"
   ]
  },
  {
   "cell_type": "markdown",
   "id": "cf95f5de",
   "metadata": {},
   "source": [
    "A network may be considered as a set of nodes or agents that collaborate to achieve what **each cannot achieve alone**.\n",
    "\n",
    "### Notation:\n",
    "\n",
    "$x_i (t)$: time-varying state vector from node i of a graph\n",
    "\n",
    "$(G,x)$: Graph with node dynamics\n",
    "\n",
    "$N$: Nodes\n",
    "\n",
    "$x = [x_i^T …. x_N^T]^T$ : Global state vector\n",
    "\n",
    "Each node evolves according to some dynamics $\\dot{x}_i = f_i(x_i, u_i)$\n",
    "\n",
    "where $u_i$ is a control input and $f_i(.)$ is some flow function\n",
    "\n",
    "> **Definition Consensus Problem**: Find a distributed control protocol that drives all states to the same values $x_i = x_j$ = $∀i,j$ . This value is known as a consensus value.\n",
    ">"
   ]
  },
  {
   "cell_type": "markdown",
   "id": "2b8112b4",
   "metadata": {},
   "source": [
    "## Definitions"
   ]
  },
  {
   "cell_type": "markdown",
   "id": "dd1d53e4",
   "metadata": {},
   "source": [
    "Given the following triangle graph:"
   ]
  },
  {
   "cell_type": "code",
   "execution_count": 3,
   "id": "a75dde53",
   "metadata": {},
   "outputs": [
    {
     "data": {
      "image/png": "[encoded data removed]",
      "text/plain": [
       "<Figure size 300x300 with 1 Axes>"
      ]
     },
     "metadata": {},
     "output_type": "display_data"
    }
   ],
   "source": [
    "edge_list = [(1, 2), \n",
    "             (2, 3),\n",
    "             (3, 1)]\n",
    "\n",
    "n = 3 # Nodes\n",
    "# Initial state\n",
    "states_0 = np.array(10*np.random.rand(n)-5) \n",
    "nodes = [(i, {\"states\": [s, 0]}) for i, s in enumerate(states_0, 1)]\n",
    "\n",
    "G = nx.Graph()\n",
    "G.add_nodes_from(nodes)\n",
    "G.add_edges_from(edge_list)\n",
    "fig = plt.figure(figsize=(3,3))\n",
    "pos = nx.spring_layout(G)\n",
    "nx.draw(\n",
    "    G, pos, edge_color='black', width=1, linewidths=1,\n",
    "    node_size=500, node_color='#00b4d9', alpha=0.9,\n",
    "    labels={node: f\"$x_{node}$\" for node in G.nodes()}\n",
    ")"
   ]
  },
  {
   "cell_type": "markdown",
   "id": "489c80e1",
   "metadata": {},
   "source": [
    "### Adjacency Matrix\n",
    "\n",
    "The idea is that the cell $ m[i] [j] $ represents the edge weight of going from node $i$ to node $j$."
   ]
  },
  {
   "cell_type": "code",
   "execution_count": 4,
   "id": "2e97c3f5",
   "metadata": {
    "scrolled": true
   },
   "outputs": [
    {
     "name": "stdout",
     "output_type": "stream",
     "text": [
      "adj_matrix =\n",
      " [[0 1 1]\n",
      " [1 0 1]\n",
      " [1 1 0]]\n"
     ]
    }
   ],
   "source": [
    "adj_matrix = nx.adjacency_matrix(G).toarray()\n",
    "print(f\"adj_matrix =\\n {adj_matrix}\")"
   ]
  },
  {
   "cell_type": "markdown",
   "id": "b25287fd",
   "metadata": {},
   "source": [
    "### Incidence matrix\n",
    "\n",
    "The incidence matrix has one **row for each vertex** and one column for each edge.\n",
    "The entry in row $i$ and column $j$ is:\n",
    "- 1 if vertex ($v_i$) and edge ($e_j$) are related (i.e., incident).\n",
    "- 0 if they are not related."
   ]
  },
  {
   "cell_type": "code",
   "execution_count": 5,
   "id": "e4ed283c",
   "metadata": {
    "scrolled": true
   },
   "outputs": [
    {
     "name": "stdout",
     "output_type": "stream",
     "text": [
      "inc_matrix =\n",
      " [[1. 1. 0.]\n",
      " [1. 0. 1.]\n",
      " [0. 1. 1.]]\n"
     ]
    }
   ],
   "source": [
    "inc_matrix = nx.incidence_matrix(G).toarray()\n",
    "print(f\"inc_matrix =\\n {inc_matrix}\")"
   ]
  },
  {
   "cell_type": "markdown",
   "id": "02b4b208",
   "metadata": {},
   "source": [
    "### Laplacian Matrix\n",
    "\n",
    "It can be viewed as a matrix form of the negative discrete Laplace operator on a graph, approximating the negative continuous Laplacian obtained by the finite difference method.\n",
    "Basically it's the second gradient of the graph: it measures how the values changes over the graph.\n",
    "\n",
    "##### Definition:\n",
    "Define the Jordan normal form of the graph Laplacian matrix by\n",
    "\n",
    "$L= MJM^{−1}$\n",
    "\n",
    "$J=\\begin{bmatrix}\n",
    "\\lambda_1 &  & &\\\\\n",
    " & \\lambda_2 & &\\\\\n",
    " & & ... & & \\\\\n",
    " & &  & \\lambda_N\n",
    "\\end{bmatrix}$,\n",
    "$M=\\begin{bmatrix}\n",
    "v_1 & v_2 & ... & v_N\n",
    "\\end{bmatrix}$\n",
    "\n",
    "where the eigenvalues $λi$ and right eigenvectors $v_i$ satisfy:\n",
    "\n",
    "$(\\lambda I - L)v_i = 0$\n",
    "\n",
    "with I being the identity matrix\n",
    "\n",
    "The inverse of the transformation matrix M is given as\n",
    "\n",
    "$M^{-1} = \\begin{bmatrix} w_1^{T}\\\\w_2^{T}\\\\…\\\\w_N^{T} \\end{bmatrix}$\n",
    "\n",
    "where the left eigenvectors $w_i$ satisfy\n",
    "\n",
    "$w_i^T(\\lambda I - L) = 0$\n",
    "\n",
    "and are normalized so that $w_i^Tv_i = 1$."
   ]
  },
  {
   "cell_type": "code",
   "execution_count": 6,
   "id": "c762a3c4",
   "metadata": {
    "scrolled": true
   },
   "outputs": [
    {
     "name": "stdout",
     "output_type": "stream",
     "text": [
      "laplacian_matrix =\n",
      " [[ 2 -1 -1]\n",
      " [-1  2 -1]\n",
      " [-1 -1  2]]\n"
     ]
    }
   ],
   "source": [
    "L=nx.laplacian_matrix(G).toarray()\n",
    "print(f\"laplacian_matrix =\\n {L}\")"
   ]
  },
  {
   "cell_type": "markdown",
   "id": "5c2313ab",
   "metadata": {},
   "source": [
    "### Eigenvalues"
   ]
  },
  {
   "cell_type": "code",
   "execution_count": 8,
   "id": "9e4dcc98",
   "metadata": {},
   "outputs": [
    {
     "name": "stdout",
     "output_type": "stream",
     "text": [
      "Eigenvalues = [(-4.2379613713492356e-16+0j), (2.9999999999999996+0j), (2.9999999999999996+0j)]\n"
     ]
    },
    {
     "data": {
      "image/png": "[encoded data removed]",
      "text/plain": [
       "<Figure size 400x400 with 1 Axes>"
      ]
     },
     "metadata": {},
     "output_type": "display_data"
    }
   ],
   "source": [
    "from utils import plot_complex\n",
    "\n",
    "eigenvalues = sorted(linalg.eigvals(L))\n",
    "print(f\"Eigenvalues = {eigenvalues}\")\n",
    "fig2 = plot_complex(eigenvalues, \"Eigenvalues\")"
   ]
  },
  {
   "cell_type": "markdown",
   "id": "f34ee420",
   "metadata": {},
   "source": [
    "### Left eigenvectors"
   ]
  },
  {
   "cell_type": "code",
   "execution_count": 9,
   "id": "17362389",
   "metadata": {
    "scrolled": true
   },
   "outputs": [
    {
     "name": "stdout",
     "output_type": "stream",
     "text": [
      "Left Eigenvectors (normalized):\n",
      " [[ 0.77611619 -0.57735027  0.        ]\n",
      " [-0.60767764 -0.57735027 -0.70710678]\n",
      " [-0.16843855 -0.57735027  0.70710678]]\n"
     ]
    }
   ],
   "source": [
    "w = linalg.eig(L, left=True, right=False)[1]\n",
    "print(\"Left Eigenvectors (normalized):\\n\", w)"
   ]
  },
  {
   "cell_type": "markdown",
   "id": "e17ed1dd",
   "metadata": {},
   "source": [
    "### The Fiedler Eigenvalue\n",
    "\n",
    "The second eigenvalue $λ_2$ (Fiedler Eigenvalue) of the graph Laplacian matrix $L$ is important in determining the speed of interaction of dynamic systems on graphs.\n",
    "\n",
    "Graph topologies that have a **large** value of $λ_2$ are better for achieving convergence."
   ]
  },
  {
   "cell_type": "code",
   "execution_count": 10,
   "id": "f129beb9",
   "metadata": {},
   "outputs": [
    {
     "data": {
      "text/latex": [
       "$\\lambda_2$=3.00+0.00js"
      ],
      "text/plain": [
       "<IPython.core.display.Latex object>"
      ]
     },
     "metadata": {},
     "output_type": "display_data"
    },
    {
     "name": "stdout",
     "output_type": "stream",
     "text": [
      "Tss=1.67s\n"
     ]
    }
   ],
   "source": [
    "tau = 1/eigenvalues[1].real\n",
    "Tss = 5*tau\n",
    "display(Latex(f\"$\\lambda_2$={eigenvalues[1]:.2f}s\"))\n",
    "print(f\"Tss={Tss:.2f}s\")"
   ]
  },
  {
   "cell_type": "markdown",
   "id": "a89b26e6",
   "metadata": {},
   "source": [
    "## 3.1.1 Consensus with Single-Integrator Dynamics (Local voting protocol)"
   ]
  },
  {
   "cell_type": "markdown",
   "id": "17ccb207",
   "metadata": {},
   "source": [
    "Considering the case where all nodes of the graph G have scalar single-integrator dynamics\n",
    "\n",
    "$\\dot{x}_i = u_i$\n",
    "\n",
    "with $\\dot{x}_i$, $u_i$ $\\in \\mathbb{R}$. This corresponds to endowing each node or agent with a memory.\n",
    " \n",
    "The agreement protocol involves $n$ dynamic units, labeled $1$, $2$, . . . , $n$, interconnected via relative information exchange links. The rate of change of each unit’s state is assumed to be governed by the sum of its relative states with respect to a subset of other (neighboring) units.\n",
    "\n",
    "Denoting the scalar state of unit $i$ as $x_i \\in \\mathbb{R}$, one then has\n",
    "\n",
    "$\\dot{x}_i(t) = \\sum_{j\\in N(i)}(x_j(t)-x_i(t))$, $i=1,...,n,$\n",
    "\n",
    "where $N(i)$ is the set of units \"adjacent to\", or neighboring, unit $i$ in the network.\n",
    "\n",
    "The control input of each node depends on the difference between its state and all its neighbors.\n",
    "When the adopted notion of adjacency is symmetric, the overall system can be represented by\n",
    "\n",
    "$\\dot{x}_i(t)=u(t)=-L(\\mathcal{G})x(t)$,\n",
    "\n",
    "where the positive semidefinite matrix $L(\\mathcal{G})$ is the Laplacian of the agents’ interaction network $\\mathcal{G}$ and $x(t) = (x_1(t), . . . , x_n(t))^T \\in \\mathbb{R}^n$."
   ]
  },
  {
   "cell_type": "code",
   "execution_count": 11,
   "id": "592539f1",
   "metadata": {},
   "outputs": [],
   "source": [
    "def local_voting_protocol(L, x):\n",
    "    return -L @ x[:, 0]"
   ]
  },
  {
   "cell_type": "markdown",
   "id": "9c4e6068",
   "metadata": {},
   "source": [
    "> **Consensus for First-order Systems**: The local voting protocol guarantees consensus of the single-integrator dynamics if and only if the graph has a spanning tree. Then, all node states come to the same steady-state values $x_i = x_j = c, \\forall i j$ .\n",
    ">\n",
    "The consensus value is given by\n",
    "\n",
    "$c = \\sum_{i=1}^N p_ix_i(0)$\n",
    "\n",
    "> Let $\\mathcal{G}$ be a connected graph. Then the (undirected) agreement protocol converges to the agreement set with a rate of convergence that is dictated by $\\lambda_2(\\mathcal{G})$.\n",
    ">\n",
    "By observing that for a connected graph $\\lambda_i(\\mathcal{G}) > 0$ for $i \\geq 2$; as always, $\\lambda_1(\\mathcal{G}) = 0$. Thus\n",
    "\n",
    "$x(t) \\rightarrow (u^T_1 x_0)u_1 = \\frac{1^T x_0}{n}1$ as $t \\rightarrow \\inf$"
   ]
  },
  {
   "cell_type": "code",
   "execution_count": 12,
   "id": "afc5be22",
   "metadata": {},
   "outputs": [
    {
     "name": "stdout",
     "output_type": "stream",
     "text": [
      "consensus value = 1.86\n"
     ]
    }
   ],
   "source": [
    "c = np.ones(n) @ states_0/n\n",
    "print(f\"consensus value = {c:.2f}\")"
   ]
  },
  {
   "cell_type": "markdown",
   "id": "fb8af1ad",
   "metadata": {},
   "source": [
    "### Simulation: Dynamic model"
   ]
  },
  {
   "cell_type": "markdown",
   "id": "95945d7a",
   "metadata": {},
   "source": [
    "#### System definition\n",
    "$\\dot{x}_i = u_i$"
   ]
  },
  {
   "cell_type": "code",
   "execution_count": 13,
   "id": "8f588172",
   "metadata": {},
   "outputs": [],
   "source": [
    "def get_states_as_vector(G: nx.Graph):\n",
    "    return np.matrix([G.nodes[node][\"states\"] for node in G.nodes])\n",
    "\n",
    "def update_states(G_t: nx.Graph, u_t, dt):\n",
    "    # Update current graph\n",
    "    for node, u_i in zip(G_t.nodes, u_t.flat):\n",
    "        G_t.nodes[node][\"states\"][0] += G_t.nodes[node][\"states\"][1]*dt\n",
    "        G_t.nodes[node][\"states\"][1] = u_i\n",
    "    return get_states_as_vector(G_t)\n",
    "\n",
    "L = nx.laplacian_matrix(G)"
   ]
  },
  {
   "cell_type": "markdown",
   "id": "49bc1c62",
   "metadata": {},
   "source": [
    "##### Run simulation"
   ]
  },
  {
   "cell_type": "code",
   "execution_count": 15,
   "id": "c84ee109",
   "metadata": {},
   "outputs": [],
   "source": [
    "T = 2*Tss\n",
    "dt = 0.01\n",
    "t_span = np.linspace(0, T, num=int(T/dt))\n",
    "logs = np.zeros((len(t_span), n, 2))\n",
    "\n",
    "for i, t in enumerate(t_span):\n",
    "    x = get_states_as_vector(G)\n",
    "    u = local_voting_protocol(L, x)\n",
    "    logs[i][:] = update_states(G, u, dt)"
   ]
  },
  {
   "cell_type": "markdown",
   "id": "6f165443",
   "metadata": {},
   "source": [
    "#### Plot Results"
   ]
  },
  {
   "cell_type": "code",
   "execution_count": 16,
   "id": "1b698829",
   "metadata": {},
   "outputs": [
    {
     "data": {
      "image/png": "[encoded data removed]",
      "text/plain": [
       "<Figure size 640x480 with 2 Axes>"
      ]
     },
     "metadata": {},
     "output_type": "display_data"
    }
   ],
   "source": [
    "fig3, ax = plt.subplots(2, 1, sharex=True)\n",
    "for v, node in enumerate(G.nodes):\n",
    "    ax[0].plot(t_span, logs[:, v, 0], label = str(node))\n",
    "    ax[1].plot(t_span, logs[:, v, 1], label = str(node))\n",
    "\n",
    "## Annotate Cs, Tss\n",
    "ax[0].annotate(f\"$t_{{ss}}$ = {Tss:.2f}s\\nc = {c:.2f}\", (Tss, c+0.5))\n",
    "ax[0].scatter(Tss, c)\n",
    "\n",
    "ax[0].legend()\n",
    "ax[1].legend()\n",
    "ax[0].grid()\n",
    "ax[1].grid()\n",
    "ax[1].set_xlabel(\"Time (s)\")\n",
    "ax[0].set_ylabel(\"$s$\")\n",
    "ax[1].set_ylabel(\"$\\\\dot{s}$\")\n",
    "plt.show()"
   ]
  },
  {
   "cell_type": "markdown",
   "id": "6f7a9256",
   "metadata": {},
   "source": [
    "## 3.1.2 Consensus Asymetric Adjacency Relation (Directed Graph)\n",
    "\n",
    "Consider a group of three robots coordinating their respective speeds according to the following chain of command: the rate of change of the second robot's speed is dictated by its speed difference with respect to the first one; the rate of change of the third robot's speed is adjusted analogously with respect to the second one. Finally, the first robot adjusts its speed by the taking the average of its speed differences with respect to the second and third robots."
   ]
  },
  {
   "cell_type": "code",
   "execution_count": 231,
   "id": "ab32213b",
   "metadata": {},
   "outputs": [
    {
     "data": {
      "image/png": "[encoded data removed]",
      "text/plain": [
       "<Figure size 300x300 with 1 Axes>"
      ]
     },
     "metadata": {},
     "output_type": "display_data"
    }
   ],
   "source": [
    "edge_list = [(1, 2, 1), \n",
    "             (2, 1, 1/2),\n",
    "             (2, 3, 1),\n",
    "             (3, 1, 1/2)]\n",
    "\n",
    "n = 3 # Nodes\n",
    "# Initial state\n",
    "states_0 = np.array(10*np.random.rand(n)-5) \n",
    "nodes = [(i, {\"states\": [s, 0]}) for i, s in enumerate(states_0, 1)]\n",
    "\n",
    "G = nx.DiGraph()\n",
    "G.add_nodes_from(nodes)\n",
    "G.add_weighted_edges_from(edge_list)\n",
    "fig = plt.figure(figsize=(3,3))\n",
    "pos = nx.spring_layout(G)\n",
    "nx.draw(\n",
    "    G, pos, edge_color='black', width=1, linewidths=1,\n",
    "    node_size=500, node_color='#00b4d9', alpha=0.9,\n",
    "    labels={node: f\"$x_{node}$\" for node in G.nodes()}\n",
    ")\n",
    "labels = {(u, v): ((u, v), G.edges[u, v]['weight']) for u, v in G.edges}\n",
    "_ = nx.draw_networkx_edge_labels(G,pos,edge_labels=labels, verticalalignment=\"top\")\n",
    "_ = nx.draw_networkx_edge_labels(G,pos,edge_labels={(1, 2):labels[(1, 2)]}, verticalalignment=\"bottom\")"
   ]
  },
  {
   "cell_type": "markdown",
   "id": "fd3db0cb",
   "metadata": {},
   "source": [
    "### Laplacian for Digraphs\n",
    "\n",
    "The corresponding (in-degree) weighted Laplacian is now defined by:\n",
    "\n",
    "$ L(\\mathcal{D}) = \\Delta(\\mathcal{D}) - A(\\mathcal{D}) $,\n",
    "\n",
    "where\n",
    "* \\Delta(\\mathcal{D}) is the diagonal matrix of in-degrees (number of edges pointing to each node).\n",
    "* (A) is the adjacency matrix (weighted or unweighted).\n",
    "\n",
    "For the diagonal degree matrix $\\Delta(\\mathcal{D})$ we set\n",
    "\n",
    "$ [\\Delta(\\mathcal{D})]_{ii} = d_{in}(v_i) $ for all $i$,\n",
    "\n",
    "where $d_{in}(v)$ is the weighted in-degree of vertex $v$, that is,\n",
    "\n",
    "$d_{in}(v_i) = \\sum_{j | (v_j, v_i) \\in E(\\mathcal{D})} w_{ij}$,\n",
    "\n",
    "We note that: \n",
    "\n",
    "$ \\Delta(\\mathcal{D}) = Diag(A(\\mathcal{D})1) $"
   ]
  },
  {
   "cell_type": "code",
   "execution_count": 232,
   "id": "f4a23798",
   "metadata": {},
   "outputs": [
    {
     "name": "stdout",
     "output_type": "stream",
     "text": [
      "in-degree Laplacian =\n",
      " [[ 1.  -0.5 -0.5]\n",
      " [-1.   1.   0. ]\n",
      " [ 0.  -1.   1. ]]\n"
     ]
    }
   ],
   "source": [
    "in_degrees = dict(G.in_degree(weight='weight'))\n",
    "D = np.diag(list(in_degrees.values())) \n",
    "A = nx.adjacency_matrix(G).toarray()\n",
    "L_in = D - A  # Compute in-degree Laplacian\n",
    "L = L_in.T\n",
    "print(f\"in-degree Laplacian =\\n {L}\")"
   ]
  },
  {
   "cell_type": "code",
   "execution_count": 233,
   "id": "99dc2329",
   "metadata": {},
   "outputs": [
    {
     "name": "stdout",
     "output_type": "stream",
     "text": [
      "Eigenvalues = [(-3.1660569232725585e-17+0j), (1.5-0.5j), (1.5+0.5j)]\n"
     ]
    },
    {
     "data": {
      "image/png": "[encoded data removed]",
      "text/plain": [
       "<Figure size 400x400 with 1 Axes>"
      ]
     },
     "metadata": {},
     "output_type": "display_data"
    }
   ],
   "source": [
    "eigenvalues = sorted(linalg.eigvals(L))\n",
    "print(f\"Eigenvalues = {eigenvalues}\")\n",
    "fig2 = plot_complex(eigenvalues, \"Eigenvalues\")"
   ]
  },
  {
   "cell_type": "markdown",
   "id": "f4f5dfbf",
   "metadata": {},
   "source": [
    "### System Dynamics\n",
    "\n",
    "Denoting the speed of robot i by si, the dynamics of the resulting system can be written as:\n",
    "$\\dot{s}_1(t) = \\frac{1}{2}((s_3(t)-s_1(t))+(s_2(t)-s_1(t)))$\n",
    "$\\dot{s}_2(t) = s_1(t)-s_2(t)$\n",
    "$\\dot{s}_3(t) = s_2(t)-s_3(t)$\n",
    "\n",
    "which assumes the form:\n",
    "\n",
    "$\\dot{s}(t) = \\begin{bmatrix}\n",
    "-1 & \\frac{1}{2} & \\frac{1}{2} \\\\\n",
    "1 & -1 & 0 \\\\\n",
    "0 & 1 & -1 \n",
    "\\end{bmatrix} s(t)$,\n",
    "\n",
    "We note that the matrix corresponds to the negative of the in-degree Laplacian of the network, thus:\n",
    "$\\dot{s}(t) = -L(\\mathcal{D})s(t)$,\n",
    "\n",
    "where $\\mathcal{D}$ is the underlying directed interconnection, that is, the weighted digraph of the network."
   ]
  },
  {
   "cell_type": "code",
   "execution_count": 234,
   "id": "1d030f31",
   "metadata": {},
   "outputs": [],
   "source": [
    "def local_voting_protocol(L, x):\n",
    "    return -L @ x[:, 0]"
   ]
  },
  {
   "cell_type": "code",
   "execution_count": 235,
   "id": "10d3155d",
   "metadata": {},
   "outputs": [],
   "source": [
    "def get_states_as_vector(G: nx.Graph):\n",
    "    return np.matrix([G.nodes[node][\"states\"] for node in G.nodes])\n",
    "\n",
    "def update_states(G_t: nx.Graph, u_t, dt):\n",
    "    # Update current graph\n",
    "    for node, u_i in zip(G_t.nodes, u_t.flat):\n",
    "        G_t.nodes[node][\"states\"][0] += G_t.nodes[node][\"states\"][1]*dt\n",
    "        G_t.nodes[node][\"states\"][1] = u_i # u_i = -L*s\n",
    "    return get_states_as_vector(G_t)"
   ]
  },
  {
   "cell_type": "markdown",
   "id": "697b7135",
   "metadata": {},
   "source": [
    "#### Settling time"
   ]
  },
  {
   "cell_type": "code",
   "execution_count": 236,
   "id": "3101ad23",
   "metadata": {},
   "outputs": [
    {
     "data": {
      "text/latex": [
       "$\\lambda_2$=1.50-0.50js"
      ],
      "text/plain": [
       "<IPython.core.display.Latex object>"
      ]
     },
     "metadata": {},
     "output_type": "display_data"
    },
    {
     "name": "stdout",
     "output_type": "stream",
     "text": [
      "Tss=3.33s\n"
     ]
    }
   ],
   "source": [
    "tau = 1/eigenvalues[1].real\n",
    "Tss = 5*tau\n",
    "display(Latex(f\"$\\lambda_2$={eigenvalues[1]:.2f}s\"))\n",
    "print(f\"Tss={Tss:.2f}s\")"
   ]
  },
  {
   "cell_type": "markdown",
   "id": "9e85fb6c",
   "metadata": {},
   "source": [
    "#### Consensus Value\n",
    "\n",
    "**3.14** : Let $L(\\mathcal{D}) = PJ(Λ)P^{−1}$ be the Jordan decomposition of the (in-degree) Laplacian for the digraph $\\mathcal{D}$. When $\\mathcal{D}$ contains a rooted out-branching, the nonsingular matrix $P$ can be chosen such that\n",
    "\n",
    "$ J(Λ) = \\begin{bmatrix}\n",
    " 0 & 0 & ... & 0 \\\\\n",
    " 0 & J(\\lambda_2) & ... & 0 \\\\\n",
    " 0 & 0 & ... & 0 \\\\\n",
    " 0 & 0 & ... & J(\\lambda_n) \\\\\n",
    "\\end{bmatrix}$\n",
    "\n",
    "where the $\\lambda_i$s ($i$ = 2, . . . , $n$) have positive real parts, and $J(\\lambda_i)$ is the Jordan block associated with eigenvalue $\\lambda_i$.\n",
    "\n",
    "For a digraph \\mathcal{D} containing a rooted out-branching, the state trajectory generated by (3.14), initialized from $x_0$, satisfies \n",
    "\n",
    "$\\lim_{t\\to\\infty} x(t) = (p_1q_1^T)x_0$\n",
    "\n",
    "where $p_1$ and $q_1$, are, respectively, the right and left eigenvectors associated with the zero eigenvalue of $L(\\mathcal{D})$, normalized such that $p^T_1 q_1 = 1$. As a result, one has $x(t) \\to \\mathcal{A}$ for all initial conditions if and only if $\\mathcal{D}$ contains a rooted out-branching.\n",
    "\n",
    "Recall that the constant of motion for the agreement protocol over an undirected\n",
    "graph is the sum of the node states at any given time"
   ]
  },
  {
   "cell_type": "code",
   "execution_count": 237,
   "id": "6d148332",
   "metadata": {},
   "outputs": [
    {
     "data": {
      "text/latex": [
       "$p_1^Tq_1 = (1+0j)$"
      ],
      "text/plain": [
       "<IPython.core.display.Latex object>"
      ]
     },
     "metadata": {},
     "output_type": "display_data"
    }
   ],
   "source": [
    "idx = np.argmin(linalg.eigvals(L)) ## Zero eigenvalue\n",
    "p = linalg.eig(L, left=False, right=True)[1][: , idx]\n",
    "q = linalg.eig(L, left=True, right=False)[1][: , idx]\n",
    "\n",
    "inner_product = p.T@q\n",
    "p_norm = p / np.sqrt(inner_product)\n",
    "q_norm = q / np.sqrt(inner_product)\n",
    "\n",
    "display(Latex(f\"$p_1^Tq_1 = {p_norm.T @ q_norm}$\"))"
   ]
  },
  {
   "cell_type": "code",
   "execution_count": 261,
   "id": "aa20f1a3",
   "metadata": {},
   "outputs": [
    {
     "name": "stdout",
     "output_type": "stream",
     "text": [
      "consensus value = 0.59\n"
     ]
    }
   ],
   "source": [
    "c = ((p_norm*q_norm.T) @ states_0).real\n",
    "print(f\"consensus value = {c:.2f}\")"
   ]
  },
  {
   "cell_type": "markdown",
   "id": "b7ed8319",
   "metadata": {},
   "source": [
    "##### Run simulation"
   ]
  },
  {
   "cell_type": "code",
   "execution_count": 240,
   "id": "9d14d2e8",
   "metadata": {},
   "outputs": [],
   "source": [
    "T = 2*Tss\n",
    "dt = 0.01\n",
    "t_span = np.linspace(0, T, num=int(T/dt))\n",
    "logs = np.zeros((len(t_span), n, 2))\n",
    "\n",
    "for i, t in enumerate(t_span):\n",
    "    x = get_states_as_vector(G)\n",
    "    u = local_voting_protocol(L, x)\n",
    "    logs[i][:] = update_states(G, u, dt)"
   ]
  },
  {
   "cell_type": "markdown",
   "id": "e28515f1",
   "metadata": {},
   "source": [
    "#### Plot Results"
   ]
  },
  {
   "cell_type": "code",
   "execution_count": 263,
   "id": "63c550a5",
   "metadata": {},
   "outputs": [
    {
     "data": {
      "image/png": "[encoded data removed]",
      "text/plain": [
       "<Figure size 640x480 with 2 Axes>"
      ]
     },
     "metadata": {},
     "output_type": "display_data"
    }
   ],
   "source": [
    "fig3, ax = plt.subplots(2, 1, sharex=True)\n",
    "for v, node in enumerate(G.nodes):\n",
    "    ax[0].plot(t_span, logs[:, v, 0], label = str(node))\n",
    "    ax[1].plot(t_span, logs[:, v, 1], label = str(node))\n",
    "\n",
    "## Annotate Cs, Tss\n",
    "ax[0].annotate(f\"$t_{{ss}}$ = {Tss:.2f}s\\nc = {c:.2f}\", (Tss, c+0.5))\n",
    "ax[0].scatter(Tss, c)\n",
    "\n",
    "ax[0].legend()\n",
    "ax[1].legend()\n",
    "ax[0].grid()\n",
    "ax[1].grid()\n",
    "ax[1].set_xlabel(\"Time (s)\")\n",
    "ax[0].set_ylabel(\"$s$\")\n",
    "ax[1].set_ylabel(\"$\\\\dot{s}$\")\n",
    "plt.show()"
   ]
  },
  {
   "cell_type": "code",
   "execution_count": null,
   "id": "cb7c04d4",
   "metadata": {},
   "outputs": [],
   "source": []
  }
 ],
 "metadata": {
  "kernelspec": {
   "display_name": "Python 3 (ipykernel)",
   "language": "python",
   "name": "python3"
  },
  "language_info": {
   "codemirror_mode": {
    "name": "ipython",
    "version": 3
   },
   "file_extension": ".py",
   "mimetype": "text/x-python",
   "name": "python",
   "nbconvert_exporter": "python",
   "pygments_lexer": "ipython3",
   "version": "3.11.5"
  }
 },
 "nbformat": 4,
 "nbformat_minor": 5
}
